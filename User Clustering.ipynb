{
 "cells": [
  {
   "cell_type": "markdown",
   "id": "7f9063fb",
   "metadata": {},
   "source": [
    "# I. Library Setup"
   ]
  },
  {
   "cell_type": "code",
   "execution_count": 62,
   "id": "a260e742-8026-48d7-a64f-56c5d0a7ec95",
   "metadata": {},
   "outputs": [],
   "source": [
    "import pandas as pd\n",
    "import numpy as np\n",
    "import warnings\n",
    "# Embedding data\n",
    "from sentence_transformers import SentenceTransformer\n",
    "\n",
    "# Data clustering\n",
    "from sklearn.cluster import KMeans\n",
    "\n",
    "# Cluster evaluation\n",
    "from sklearn.metrics import calinski_harabasz_score\n",
    "from sklearn.metrics import silhouette_score, davies_bouldin_score\n",
    "\n",
    "# Topic modeling\n",
    "from sklearn.feature_extraction.text import TfidfVectorizer\n",
    "from sklearn.decomposition import LatentDirichletAllocation\n",
    "\n",
    "# Data visualization\n",
    "import plotly.graph_objects as go\n",
    "\n",
    "# Reduce data dimensionality\n",
    "import umap"
   ]
  },
  {
   "cell_type": "markdown",
   "metadata": {},
   "source": [
    "# II. Data Preparation"
   ]
  },
  {
   "cell_type": "markdown",
   "id": "003e2f2b",
   "metadata": {},
   "source": [
    "## 2.1 Load \"post_text\""
   ]
  },
  {
   "cell_type": "code",
   "execution_count": 63,
   "id": "bdf45594",
   "metadata": {},
   "outputs": [
    {
     "data": {
      "text/html": [
       "<div>\n",
       "<style scoped>\n",
       "    .dataframe tbody tr th:only-of-type {\n",
       "        vertical-align: middle;\n",
       "    }\n",
       "\n",
       "    .dataframe tbody tr th {\n",
       "        vertical-align: top;\n",
       "    }\n",
       "\n",
       "    .dataframe thead th {\n",
       "        text-align: right;\n",
       "    }\n",
       "</style>\n",
       "<table border=\"1\" class=\"dataframe\">\n",
       "  <thead>\n",
       "    <tr style=\"text-align: right;\">\n",
       "      <th></th>\n",
       "      <th>User_name</th>\n",
       "      <th>post_text</th>\n",
       "    </tr>\n",
       "  </thead>\n",
       "  <tbody>\n",
       "    <tr>\n",
       "      <th>0</th>\n",
       "      <td>10Ronaldinho</td>\n",
       "      <td>feliz aniversÃ¡rio pra vc minha mÃ£e sua falta...</td>\n",
       "    </tr>\n",
       "    <tr>\n",
       "      <th>1</th>\n",
       "      <td>143redangel</td>\n",
       "      <td>rate phenomen tatak angel locsin angel neil â...</td>\n",
       "    </tr>\n",
       "    <tr>\n",
       "      <th>2</th>\n",
       "      <td>50cent</td>\n",
       "      <td>sweden gon germani tonightglggreenlightgang wo...</td>\n",
       "    </tr>\n",
       "    <tr>\n",
       "      <th>3</th>\n",
       "      <td>5SOS</td>\n",
       "      <td>merch  grab love  amazon music silver line gol...</td>\n",
       "    </tr>\n",
       "    <tr>\n",
       "      <th>4</th>\n",
       "      <td>ABdeVilliers17</td>\n",
       "      <td>flipkart â big billion sale kick wrogn activ...</td>\n",
       "    </tr>\n",
       "  </tbody>\n",
       "</table>\n",
       "</div>"
      ],
      "text/plain": [
       "        User_name                                          post_text\n",
       "0    10Ronaldinho  feliz aniversÃ¡rio pra vc minha mÃ£e sua falta...\n",
       "1     143redangel  rate phenomen tatak angel locsin angel neil â...\n",
       "2          50cent  sweden gon germani tonightglggreenlightgang wo...\n",
       "3            5SOS  merch  grab love  amazon music silver line gol...\n",
       "4  ABdeVilliers17  flipkart â big billion sale kick wrogn activ..."
      ]
     },
     "execution_count": 63,
     "metadata": {},
     "output_type": "execute_result"
    }
   ],
   "source": [
    "# load post \n",
    "df_PostText = pd.read_csv(\"../data/df_PostText_groupby.csv\", encoding='ISO-8859-1')\n",
    "df_PostText.head()"
   ]
  },
  {
   "cell_type": "code",
   "execution_count": 64,
   "id": "a0e55f75",
   "metadata": {},
   "outputs": [],
   "source": [
    "list_post_per_user = list(df_PostText[\"post_text\"])"
   ]
  },
  {
   "cell_type": "markdown",
   "id": "cc50b936",
   "metadata": {},
   "source": [
    "## 2.2 Embedding \"post_text\" using three models: e5-base, e5-small, e5-large"
   ]
  },
  {
   "cell_type": "code",
   "execution_count": 65,
   "id": "701f67d4",
   "metadata": {},
   "outputs": [],
   "source": [
    "# def get_e5_embeddings(list_post_per_user, model_name):\n",
    "#     if model_name == 'e5-base':\n",
    "#         model = SentenceTransformer('intfloat/e5-base-v2')\n",
    "#     elif model_name == 'e5-small':\n",
    "#         model = SentenceTransformer('intfloat/e5-small-v2')\n",
    "#     elif model_name == 'e5-large':\n",
    "#         model = SentenceTransformer('intfloat/e5-large-v2')\n",
    "#     else:\n",
    "#         raise ValueError(\"model_name phải là 'e5-base', 'e5-small' hoặc 'e5-large'\")\n",
    "    \n",
    "#     embeddings = model.encode(list_post_per_user)\n",
    "#     embedding_df = pd.DataFrame(embeddings)\n",
    "#     return embedding_df"
   ]
  },
  {
   "cell_type": "markdown",
   "id": "cff1bc27",
   "metadata": {},
   "source": [
    "### Embedding \"post_text\" using e5-base model"
   ]
  },
  {
   "cell_type": "code",
   "execution_count": 66,
   "id": "6ddc98c7",
   "metadata": {},
   "outputs": [],
   "source": [
    "# e5_base_embeddings = get_e5_embeddings(list_post_per_user, 'e5-base')\n",
    "# embedding_df.to_csv(\"../data/e5-base_embbeding.csv\", index=False)"
   ]
  },
  {
   "cell_type": "markdown",
   "id": "7e9f1546",
   "metadata": {},
   "source": [
    "### Embedding \"post_text\" using e5-small model"
   ]
  },
  {
   "cell_type": "code",
   "execution_count": 67,
   "id": "f1adbe56",
   "metadata": {},
   "outputs": [],
   "source": [
    "# e5_small_embeddings = get_e5_embeddings(list_post_per_user, 'e5-small')\n",
    "# embedding_df.to_csv(\"../data/e5-small_embbeding.csv\", index=False)"
   ]
  },
  {
   "cell_type": "markdown",
   "id": "74afd901",
   "metadata": {},
   "source": [
    "### Embedding \"post_text\" using e5-large model"
   ]
  },
  {
   "cell_type": "code",
   "execution_count": 68,
   "id": "e26703f5",
   "metadata": {},
   "outputs": [],
   "source": [
    "# e5_large_embeddings = get_e5_embeddings(list_post_per_user, 'e5-large')\n",
    "# embedding_df.to_csv(\"../data/e5-large_embbeding.csv\", index=False)"
   ]
  },
  {
   "cell_type": "markdown",
   "id": "2dce993f",
   "metadata": {},
   "source": [
    "# III. Clustering"
   ]
  },
  {
   "cell_type": "code",
   "execution_count": 69,
   "id": "2c7fd34e",
   "metadata": {},
   "outputs": [],
   "source": [
    "def clustering(clustering_df , num_cluters):\n",
    "    kmeans = KMeans(n_clusters=num_cluters, init=\"k-means++\", max_iter=300, n_init=10, random_state=42)\n",
    "    clustering_df[\"cluster\"] = kmeans.fit_predict(clustering_df.values)\n",
    "\n",
    "    silhouette = silhouette_score(clustering_df.iloc[:, :-1], clustering_df[\"cluster\"])\n",
    "    dbi  = davies_bouldin_score(clustering_df.iloc[:, :-1], clustering_df[\"cluster\"])\n",
    "    ch_index = calinski_harabasz_score(clustering_df.iloc[:, :-1], clustering_df[\"cluster\"])\n",
    "\n",
    "    eval_metrics_df = pd.DataFrame({\n",
    "        f\"Davies-Bouldin Index\": [dbi],\n",
    "        f\"Silhouette Score\": [silhouette],\n",
    "        f\"Calinski-Harabaz Index\": [ch_index]\n",
    "    })\n",
    "\n",
    "    return clustering_df, eval_metrics_df"
   ]
  },
  {
   "cell_type": "markdown",
   "id": "9d473f6a",
   "metadata": {},
   "source": [
    "## 3.1 Clustering with E5-base model results"
   ]
  },
  {
   "cell_type": "code",
   "execution_count": 70,
   "id": "0cfb7275-00c0-4961-b543-98ee1526603b",
   "metadata": {},
   "outputs": [
    {
     "data": {
      "text/html": [
       "<div>\n",
       "<style scoped>\n",
       "    .dataframe tbody tr th:only-of-type {\n",
       "        vertical-align: middle;\n",
       "    }\n",
       "\n",
       "    .dataframe tbody tr th {\n",
       "        vertical-align: top;\n",
       "    }\n",
       "\n",
       "    .dataframe thead th {\n",
       "        text-align: right;\n",
       "    }\n",
       "</style>\n",
       "<table border=\"1\" class=\"dataframe\">\n",
       "  <thead>\n",
       "    <tr style=\"text-align: right;\">\n",
       "      <th></th>\n",
       "      <th>Davies-Bouldin Index</th>\n",
       "      <th>Silhouette Score</th>\n",
       "      <th>Calinski-Harabaz Index</th>\n",
       "    </tr>\n",
       "  </thead>\n",
       "  <tbody>\n",
       "    <tr>\n",
       "      <th>0</th>\n",
       "      <td>4.569991</td>\n",
       "      <td>0.023231</td>\n",
       "      <td>7.45261</td>\n",
       "    </tr>\n",
       "  </tbody>\n",
       "</table>\n",
       "</div>"
      ],
      "text/plain": [
       "   Davies-Bouldin Index  Silhouette Score  Calinski-Harabaz Index\n",
       "0              4.569991          0.023231                 7.45261"
      ]
     },
     "execution_count": 70,
     "metadata": {},
     "output_type": "execute_result"
    }
   ],
   "source": [
    "df_e5_base = pd.read_csv(\"../data/e5-base_embbeding.csv\", encoding='ISO-8859-1')\n",
    "df_e5_base_clustering, e5_base_metrics = clustering(df_e5_base, num_cluters=5)\n",
    "e5_base_metrics"
   ]
  },
  {
   "cell_type": "markdown",
   "id": "a981b73e",
   "metadata": {},
   "source": [
    "## 3.2 Clustering with E5-small model results"
   ]
  },
  {
   "cell_type": "code",
   "execution_count": 71,
   "id": "cd838ef9",
   "metadata": {},
   "outputs": [
    {
     "data": {
      "text/html": [
       "<div>\n",
       "<style scoped>\n",
       "    .dataframe tbody tr th:only-of-type {\n",
       "        vertical-align: middle;\n",
       "    }\n",
       "\n",
       "    .dataframe tbody tr th {\n",
       "        vertical-align: top;\n",
       "    }\n",
       "\n",
       "    .dataframe thead th {\n",
       "        text-align: right;\n",
       "    }\n",
       "</style>\n",
       "<table border=\"1\" class=\"dataframe\">\n",
       "  <thead>\n",
       "    <tr style=\"text-align: right;\">\n",
       "      <th></th>\n",
       "      <th>Davies-Bouldin Index</th>\n",
       "      <th>Silhouette Score</th>\n",
       "      <th>Calinski-Harabaz Index</th>\n",
       "    </tr>\n",
       "  </thead>\n",
       "  <tbody>\n",
       "    <tr>\n",
       "      <th>0</th>\n",
       "      <td>5.161076</td>\n",
       "      <td>0.009018</td>\n",
       "      <td>6.368805</td>\n",
       "    </tr>\n",
       "  </tbody>\n",
       "</table>\n",
       "</div>"
      ],
      "text/plain": [
       "   Davies-Bouldin Index  Silhouette Score  Calinski-Harabaz Index\n",
       "0              5.161076          0.009018                6.368805"
      ]
     },
     "execution_count": 71,
     "metadata": {},
     "output_type": "execute_result"
    }
   ],
   "source": [
    "df_e5_small = pd.read_csv(\"../data/e5-small_embbeding.csv\", encoding='ISO-8859-1')\n",
    "df_e5_small_clustering, e5_small_metrics = clustering(df_e5_small, num_cluters=5)\n",
    "e5_small_metrics"
   ]
  },
  {
   "cell_type": "markdown",
   "id": "a61613dd",
   "metadata": {},
   "source": [
    "## 3.3 Clustering with E5-large model results"
   ]
  },
  {
   "cell_type": "code",
   "execution_count": 72,
   "id": "b1844ad0",
   "metadata": {},
   "outputs": [
    {
     "data": {
      "text/html": [
       "<div>\n",
       "<style scoped>\n",
       "    .dataframe tbody tr th:only-of-type {\n",
       "        vertical-align: middle;\n",
       "    }\n",
       "\n",
       "    .dataframe tbody tr th {\n",
       "        vertical-align: top;\n",
       "    }\n",
       "\n",
       "    .dataframe thead th {\n",
       "        text-align: right;\n",
       "    }\n",
       "</style>\n",
       "<table border=\"1\" class=\"dataframe\">\n",
       "  <thead>\n",
       "    <tr style=\"text-align: right;\">\n",
       "      <th></th>\n",
       "      <th>Davies-Bouldin Index</th>\n",
       "      <th>Silhouette Score</th>\n",
       "      <th>Calinski-Harabaz Index</th>\n",
       "    </tr>\n",
       "  </thead>\n",
       "  <tbody>\n",
       "    <tr>\n",
       "      <th>0</th>\n",
       "      <td>5.069198</td>\n",
       "      <td>0.020068</td>\n",
       "      <td>6.490568</td>\n",
       "    </tr>\n",
       "  </tbody>\n",
       "</table>\n",
       "</div>"
      ],
      "text/plain": [
       "   Davies-Bouldin Index  Silhouette Score  Calinski-Harabaz Index\n",
       "0              5.069198          0.020068                6.490568"
      ]
     },
     "execution_count": 72,
     "metadata": {},
     "output_type": "execute_result"
    }
   ],
   "source": [
    "df_e5_large = pd.read_csv(\"../data/e5-large_embbeding.csv\", encoding='ISO-8859-1')\n",
    "df_e5_large_clustering, e5_large_metrics = clustering(df_e5_large, num_cluters=5)\n",
    "e5_large_metrics"
   ]
  },
  {
   "cell_type": "markdown",
   "id": "218f7f20",
   "metadata": {},
   "source": [
    "# VI. Model Evaluation"
   ]
  },
  {
   "cell_type": "code",
   "execution_count": 73,
   "id": "4da84ad3",
   "metadata": {},
   "outputs": [
    {
     "data": {
      "text/html": [
       "<div>\n",
       "<style scoped>\n",
       "    .dataframe tbody tr th:only-of-type {\n",
       "        vertical-align: middle;\n",
       "    }\n",
       "\n",
       "    .dataframe tbody tr th {\n",
       "        vertical-align: top;\n",
       "    }\n",
       "\n",
       "    .dataframe thead th {\n",
       "        text-align: right;\n",
       "    }\n",
       "</style>\n",
       "<table border=\"1\" class=\"dataframe\">\n",
       "  <thead>\n",
       "    <tr style=\"text-align: right;\">\n",
       "      <th></th>\n",
       "      <th>Davies-Bouldin Index</th>\n",
       "      <th>Silhouette Score</th>\n",
       "      <th>Calinski-Harabaz Index</th>\n",
       "    </tr>\n",
       "  </thead>\n",
       "  <tbody>\n",
       "    <tr>\n",
       "      <th>e5-base</th>\n",
       "      <td>4.569991</td>\n",
       "      <td>0.023231</td>\n",
       "      <td>7.452610</td>\n",
       "    </tr>\n",
       "    <tr>\n",
       "      <th>e5-small</th>\n",
       "      <td>5.161076</td>\n",
       "      <td>0.009018</td>\n",
       "      <td>6.368805</td>\n",
       "    </tr>\n",
       "    <tr>\n",
       "      <th>e5-large</th>\n",
       "      <td>5.069198</td>\n",
       "      <td>0.020068</td>\n",
       "      <td>6.490568</td>\n",
       "    </tr>\n",
       "  </tbody>\n",
       "</table>\n",
       "</div>"
      ],
      "text/plain": [
       "          Davies-Bouldin Index  Silhouette Score  Calinski-Harabaz Index\n",
       "e5-base               4.569991          0.023231                7.452610\n",
       "e5-small              5.161076          0.009018                6.368805\n",
       "e5-large              5.069198          0.020068                6.490568"
      ]
     },
     "execution_count": 73,
     "metadata": {},
     "output_type": "execute_result"
    }
   ],
   "source": [
    "df_eval_metrics = pd.concat([e5_base_metrics, e5_small_metrics, e5_large_metrics], axis=0)\n",
    "df_eval_metrics.index = [\"e5-base\", \"e5-small\", \"e5-large\"]\n",
    "\n",
    "df_eval_metrics"
   ]
  },
  {
   "cell_type": "markdown",
   "id": "9143dcf8",
   "metadata": {},
   "source": [
    "# V. Topic Modeling"
   ]
  },
  {
   "cell_type": "code",
   "execution_count": 74,
   "id": "edd0c3e9",
   "metadata": {},
   "outputs": [
    {
     "name": "stdout",
     "output_type": "stream",
     "text": [
      "Topic  0 :\n",
      "['thank', 'kardashian', 'love', 'jenner', 'kyli', 'kim', 'night', 'video', 'new', 'show', 'life', 'kardashianjennernewsupd', 'fifth', 'world', 'friend', 'girl', 'peopl', 'famili', 'birthday', 'everyon', 'music', 'way', 'kendal', 'fan', 'harmoni', 'home', 'collect', 'photo', 'song', 'normani', 'link', 'victoriajustic', 'stori', 'share', 'babi', 'thing', 'beauti', 'kourtney', 'live', 'work', 'look', 'women', 'gaga', 'ebru', 'kany', 'jauregui', 'kati', 'morn', 'snooki', 'season']\n",
      "Topic  0 :\n",
      "['victoriajustic', 'ebru', 'karla', 'nina', 'codi', 'serena', 'austin', 'snooki', 'serenawilliam', 'origin', 'kardashianjennernewsupd', 'à¹', 'william', 'kardashiansist', 'thesnookishop', 'keyssoulcar', 'gaga', 'kendal', 'kyli', 'keyssoulcarecom', 'forev', 'alway', 'victoria', 'dobrev', 'jenner', '²ð', 'luci', 'hale', 'britney', '¼ð', 'ig', 'gyrlvers', 'vic', 'simpson', 'instagram', 'dona', 'venus', 'codeï¼', 'que', 'ari', 'new', 'code', 'mav', 'kati', 'cleanskincar', 'miley', 'vampir', 'meilani', 'jsfamilyvac', 'extra']\n",
      "Topic  1 :\n",
      "['fantasticohcombeep', 'laker', 'video', 'thank', 'nba', 'lebron', 'music', 'game', 'love', 'show', 'night', 'peopl', 'pts', 'life', 'world', 'birthday', 'new', 'wwe', 'season', 'read', 'blast', 'way', 'album', 'team', 'song', 'famili', 'eminem', 'fifth', 'normani', 'harmoni', 'thing', 'reb', 'live', 'watch', 'rebound', 'fan', 'kobe', 'warrior', 'link', 'player', 'friend', 'jame', 'aaliyah', 'girl', 'lil', 'wayn', 'dinah', 'kid', 'jauregui', 'durant']\n",
      "Topic  1 :\n",
      "['konfuz', 'breezi', 'chrisbrown', 'akon', 'orton', 'kardashianjennernewsupd', 'kingston', 'anvib', 'randi', 'jerk', 'ed', 'kardashian', 'jamaica', 'https', 'anna', 'metazoo', 'twittercom', 'nicki', 'topgrier', 'minaj', 'randyorton', 'alic', 'kim', 'rko', 'goddid', 'kourtney', 'viper', 'eminem', 'theovalonbet', 'sistasonbet', 'cowel', 'snowsmanenalib', 'abacom', 'indexhtml', 'darl', 'kyli', 'aoki', 'plantain', 'theplacetob', 'ubtr', 'ubt', 'hugoappjm', 'worthyparksel', 'nariti', 'quickcartja', 'cheersaftersun', 'fawud', 'aioli', 'hayesgri', 'wwe']\n",
      "Topic  2 :\n",
      "['music', 'thank', 'show', 'song', 'video', 'album', 'love', 'tour', 'ticket', 'night', 'world', 'new', 'fan', 'life', 'birthday', 'peopl', 'live', 'friend', 'harri', 'photo', 'taylor', 'friday', 'perform', 'way', 'sale', 'spotifi', 'youtub', 'adam', 'thing', 'everyon', 'lyric', 'famili', 'levin', 'watch', 'link', 'track', 'girl', 'summer', 'stream', 'jordi', 'award', 'swift', 'blackpink', 'rememberthistour', 'listen', 'vote', 'man', 'zayn', 'paul', 'wait']\n",
      "Topic  2 :\n",
      "['lilolov', 'wwwlindsaylohanm', 'lindsaycollector', 'lindsaylohan', 'tomhank', 'yeng', 'hank', 'constantino', 'shreya', 'ghoshal', 'martingarrixfan', 'watsematt', 'themediananni', 'michaelrossgeorg', 'belieb', 'asg', 'hanx', 'tom', 'lohan', 'martingarrix', 'freeview', 'djrhett', 'yallcatchin', 'shreyaghosh', 'nickjona', 'hanxian', 'bieber', 'carrieunderwood', 'carri', 'lindsay', 'cattomlinson', 'armaniexchang', 'cher', 'mariah', 'virgin', 'justin', 'carey', 'fantasticohcombeep', 'jessiej', 'fantasticoh', 'jdsvegan', 'paula', 'bigo', 'iggi', 'admin', 'awrightworld', 'omnialasvega', 'gabefraboni', 'underwood', 'vlog']\n",
      "Topic  3 :\n",
      "['fantasticohcombeep', 'ï¼', '¾ã', 'messi', '¼ã', 'read', 'ªã', '¹ã', 'vissel', 'blast', 'kobe', 'visselkob', 'lionel', 'vamo', 'fantasticoh', '³ã', 'leo', 'boomchalleng', 'copa', 'el', 'iniesta', 'çµ', 'µã', 'por', 'con', 'gran', 'para', 'todo', 'wearekob', 'que', 'goal', 'footballchalleng', 'ballon', '½ã', 'iniestatv', 'siempr', 'argentina', 'gracia', 'equipo', 'player', 'ravapa', 'junto', 'la', 'å¹', 'rakuten', 'æº', 'å¾', 'assist', 'partido', 'trabajo']\n",
      "Topic  3 :\n",
      "['¾à', '¹à', 'india', 'bollywood', 'love', 'ªà', '²à', 'birthday', 'deepikapadukon', 'thank', 'cricket', 'world', 'µà', 'team', 'dhoni', 'video', 'film', 'khan', 'life', 'morn', 'virat', 'kapoor', 'koh', 'sharma', 'playbold', 'beauti', 'bollywoodstar', 'ronaldo', 'fan', 'cristiano', 'jacquelinefernandez', 'actor', 'tamannaah', 'topstarscelebr', 'match', 'salmankhan', 'sunnyleon', 'kritisanon', 'music', 'madhuridixit', 'friend', 'bollywoodfashion', 'ipl', 'karansinghgrov', 'preiti', 'game', 'kiaraadvani', 'cricketchalleng', 'everyon', 'singh']\n",
      "Topic  4 :\n",
      "['fantasticohcombeep', 'peopl', 'thank', 'world', 'life', 'show', 'famili', 'way', 'night', 'love', 'live', 'friend', 'birthday', 'steveharvey', 'ticket', 'thing', 'new', 'episod', 'god', 'trump', 'stori', 'familyfeud', 'team', 'fan', 'work', 'share', 'read', 'video', 'book', 'link', 'season', 'smhf', 'home', 'tour', 'blast', 'photo', 'game', 'man', 'everyon', 'harvey', 'moment', 'john', 'communiti', 'watch', 'music', 'presid', 'obama', 'biden', 'film', 'tebow']\n",
      "Topic  4 :\n",
      "['conan', 'clees', 'cab', 'fring', 'phillipschofield', 'phillip', 'schofield', 'fantasticohcombeep', 'hollywoodactressxsx', 'driver', 'timelessbeautifulgoddess', 'gordon', 'ramsay', 'whowantstobeamillionair', 'dianelan', 'blast', 'evamend', 'jessicachastain', 'jessicabiel', 'charlizetheron', 'jennifergarn', 'neymar', 'progress', 'hersheypark', 'read', 'brielarson', 'jenniferaniston', 'steveharvey', 'familyfeud', 'smhf', 'wwtbam', 'car', 'fantasticoh', 'alexandradaddario', '¾á', 'whitehal', 'festiv', 'bourdain', '¼á', 'jessicaalba', 'jenniferlawr', 'repostbi', 'cchs', 'obrien', '½á', 'detail', 'dylan', 'crazi', 'schofe', 'art']\n"
     ]
    }
   ],
   "source": [
    "for  i in range(5) :\n",
    "    list_post_sr = pd.Series(list_post_per_user)\n",
    "    list_post_sr = list(list_post_sr[df_e5_base_clustering[\"cluster\"] == i])\n",
    "\n",
    "    vectorizer = TfidfVectorizer()\n",
    "    embedding_vectors = vectorizer.fit_transform(list_post_sr)\n",
    "\n",
    "    lda_model = LatentDirichletAllocation(n_components=2, random_state=42)\n",
    "    lda_model.fit(embedding_vectors)\n",
    "\n",
    "    feature_names = vectorizer.get_feature_names_out()\n",
    "    for topic_idx, topic in enumerate(lda_model.components_):\n",
    "        print(\"Topic \",i,\":\")\n",
    "        top_words_idx = topic.argsort()[-50:][::-1]\n",
    "        top_words = [feature_names[i] for i in top_words_idx]\n",
    "        print(top_words)"
   ]
  },
  {
   "cell_type": "code",
   "execution_count": 75,
   "id": "2dc22d59",
   "metadata": {},
   "outputs": [],
   "source": [
    "labels = [\n",
    "            '1: Pop Culture Icons: Kardashian, Music & Fashion',\n",
    "            '2: NBA & WWE',\n",
    "            '3: Music: Pop-Rock & EDM',\n",
    "            '4: Bollywood & Sports',\n",
    "            '5: Hollywood & Entertainment Icons'\n",
    "        ]"
   ]
  },
  {
   "cell_type": "markdown",
   "id": "66330e0c",
   "metadata": {},
   "source": [
    "# VI. Results Visualization\n"
   ]
  },
  {
   "cell_type": "code",
   "execution_count": 76,
   "id": "a1b559f2",
   "metadata": {},
   "outputs": [
    {
     "name": "stderr",
     "output_type": "stream",
     "text": [
      "C:\\Users\\dqtoa\\AppData\\Roaming\\Python\\Python312\\site-packages\\umap\\umap_.py:1943: UserWarning:\n",
      "\n",
      "n_jobs value -1 overridden to 1 by setting random_state. Use no seed for parallelism.\n",
      "\n"
     ]
    }
   ],
   "source": [
    "def compute_umap(clustering_df):\n",
    "    Umap = umap.UMAP(n_neighbors=15, min_dist=0.1, n_components=3, random_state=42)\n",
    "    umap_result = Umap.fit_transform(clustering_df.iloc[:, :-1])\n",
    "    df_umap = pd.DataFrame(data=umap_result, columns=['first_dim', 'second_dim', 'third_dim'])\n",
    "    return df_umap\n",
    "\n",
    "df_umap = compute_umap(df_e5_base_clustering)\n",
    "df_umap['cluster'] = df_e5_base_clustering['cluster']"
   ]
  },
  {
   "cell_type": "code",
   "execution_count": 77,
   "id": "bb0316db",
   "metadata": {},
   "outputs": [
    {
     "data": {
      "application/vnd.plotly.v1+json": {
       "config": {
        "plotlyServerURL": "https://plot.ly"
       },
       "data": [
        {
         "marker": {
          "color": "#4535C1",
          "opacity": 0.7,
          "size": 8
         },
         "mode": "markers",
         "name": "1: Pop Culture Icons: Kardashian, Music & Fashion",
         "type": "scatter3d",
         "x": [
          6.614712238311768,
          6.945000648498535,
          6.462557792663574,
          5.723235607147217,
          6.9656267166137695,
          6.3192138671875,
          6.830618858337402,
          5.982529640197754,
          6.8453168869018555,
          5.975870609283447,
          6.146897792816162,
          6.0845537185668945,
          5.9111552238464355,
          7.023629665374756,
          5.597311496734619,
          6.540455341339111,
          5.830193519592285,
          7.188746452331543,
          6.172224998474121,
          6.789917945861816,
          5.495100498199463,
          6.069754123687744,
          6.675443172454834,
          6.292360305786133,
          5.670076847076416,
          6.782009601593018,
          5.668580055236816,
          6.137624263763428,
          6.530215740203857,
          6.329233646392822,
          6.541634559631348,
          6.944309234619141,
          6.299861907958984,
          6.00790548324585,
          6.408387660980225,
          6.219333171844482,
          6.106987476348877,
          6.338888645172119,
          6.043830871582031,
          6.080935001373291,
          6.207170486450195,
          7.149235725402832,
          6.613503456115723,
          6.150760650634766,
          6.269895553588867,
          6.020989418029785,
          5.894643306732178,
          5.976799964904785,
          6.385838985443115,
          6.198424339294434,
          6.243287563323975,
          5.864081382751465
         ],
         "y": [
          6.779160499572754,
          5.940699100494385,
          6.816659450531006,
          7.090663433074951,
          6.800069808959961,
          7.230928421020508,
          6.304813861846924,
          6.678785800933838,
          6.9425740242004395,
          6.958640098571777,
          7.313241481781006,
          7.41679573059082,
          7.199649810791016,
          7.2790398597717285,
          6.89054012298584,
          7.313157558441162,
          6.703926086425781,
          6.2302775382995605,
          6.989279270172119,
          7.187742710113525,
          6.708272457122803,
          6.781098365783691,
          7.006061553955078,
          7.1506500244140625,
          7.139669895172119,
          6.711403846740723,
          6.903120040893555,
          7.009342193603516,
          6.736143112182617,
          7.122628688812256,
          7.125112533569336,
          7.180202007293701,
          7.049453258514404,
          6.788893699645996,
          6.688700199127197,
          7.10727071762085,
          6.576785564422607,
          7.258547306060791,
          7.314749717712402,
          7.4601006507873535,
          6.853341579437256,
          6.972111225128174,
          7.146546363830566,
          5.899136543273926,
          7.3784050941467285,
          7.115876197814941,
          6.467630386352539,
          6.408046722412109,
          7.163061141967773,
          7.136415004730225,
          7.289334774017334,
          7.163572311401367
         ],
         "z": [
          -0.05664246901869774,
          -0.5982706546783447,
          0.23906715214252472,
          0.30579468607902527,
          -0.42873966693878174,
          0.09761636704206467,
          -0.23575575649738312,
          -0.5181092023849487,
          -0.37198182940483093,
          -0.13861922919750214,
          -0.5280992984771729,
          -0.5049420595169067,
          -0.39300498366355896,
          -0.02236165851354599,
          0.7797409892082214,
          -0.3876439332962036,
          -0.427753210067749,
          -0.5663819909095764,
          -0.6510973572731018,
          0.4904715120792389,
          1.1718538999557495,
          0.029502082616090775,
          -0.5620698928833008,
          0.40640467405319214,
          0.11763600260019302,
          0.2898774743080139,
          -0.3039221167564392,
          0.23217011988162994,
          -0.269268661737442,
          1.0023770332336426,
          0.7983831763267517,
          0.191847026348114,
          -0.2695280611515045,
          0.4868467152118683,
          -0.2764158844947815,
          -0.6281331777572632,
          -0.5396621823310852,
          -0.3300569951534271,
          -0.5317200422286987,
          -0.49207794666290283,
          -0.7115442156791687,
          -0.24726775288581848,
          0.7683252692222595,
          1.3116962909698486,
          0.07814651727676392,
          0.5919661521911621,
          -0.18225204944610596,
          -0.00896409247070551,
          -0.022442825138568878,
          -0.6112193465232849,
          0.4632202684879303,
          -0.68692547082901
         ]
        },
        {
         "mode": "text",
         "showlegend": false,
         "textfont": {
          "color": "black",
          "family": "Arial",
          "size": 15
         },
         "type": "scatter3d",
         "x": [
          6.299362659454346
         ],
         "y": [
          6.939967632293701
         ],
         "z": [
          -0.050960201770067215
         ]
        },
        {
         "marker": {
          "color": "#FF8225",
          "opacity": 0.7,
          "size": 8
         },
         "mode": "markers",
         "name": "2: NBA & WWE",
         "type": "scatter3d",
         "x": [
          6.678192615509033,
          6.3952531814575195,
          8.254276275634766,
          6.122730255126953,
          8.511054992675781,
          6.1185808181762695,
          8.507346153259277,
          7.624667167663574,
          6.501437664031982,
          6.722325325012207,
          6.424043655395508,
          6.09342622756958,
          6.541374206542969,
          6.277280330657959,
          6.303758144378662,
          6.463203430175781,
          8.193660736083984,
          6.442233562469482,
          8.03679370880127,
          7.314453601837158,
          8.249409675598145,
          7.473921775817871,
          6.800105094909668,
          7.371467113494873,
          7.263538360595703,
          7.810114860534668,
          7.352029800415039,
          6.660379886627197,
          7.343103885650635,
          7.606832027435303,
          6.718698024749756,
          6.478426456451416,
          7.49813985824585,
          8.144674301147461,
          7.243810653686523,
          8.61814022064209,
          7.383129119873047,
          7.693169116973877,
          6.503942966461182,
          8.441629409790039,
          7.939655780792236,
          6.664346694946289,
          6.24576997756958,
          6.633579730987549,
          7.324591636657715,
          7.3289008140563965,
          8.733524322509766,
          6.499948978424072,
          8.040510177612305,
          6.360085964202881,
          8.590754508972168,
          6.665748119354248,
          8.089831352233887,
          5.989691734313965,
          6.972755432128906,
          6.7700886726379395,
          8.392486572265625
         ],
         "y": [
          5.758598804473877,
          6.4212260246276855,
          6.255293369293213,
          5.933201313018799,
          5.75846529006958,
          6.010255336761475,
          6.219015598297119,
          6.714695453643799,
          5.988357067108154,
          6.045868873596191,
          7.300548553466797,
          6.636476993560791,
          5.964585781097412,
          6.640519618988037,
          6.140145778656006,
          6.113766670227051,
          6.101537704467773,
          6.2373270988464355,
          5.957812786102295,
          6.164653778076172,
          5.783044815063477,
          5.778627395629883,
          6.153328895568848,
          6.202715873718262,
          6.711633205413818,
          6.160627841949463,
          5.779561519622803,
          5.972846031188965,
          5.818803787231445,
          6.108253002166748,
          5.7863545417785645,
          6.244683742523193,
          5.8904643058776855,
          5.900564670562744,
          5.843832015991211,
          5.866573333740234,
          6.792062282562256,
          6.138499736785889,
          6.242806434631348,
          5.945222854614258,
          6.393555641174316,
          6.083393096923828,
          5.971616744995117,
          6.497612476348877,
          6.712759494781494,
          5.834324359893799,
          5.838305950164795,
          6.059180736541748,
          5.992084980010986,
          6.030738830566406,
          5.250193119049072,
          5.747552871704102,
          6.478481292724609,
          6.568657398223877,
          6.92964506149292,
          5.771555423736572,
          5.448070526123047
         ],
         "z": [
          1.291047215461731,
          0.36250707507133484,
          0.6567285060882568,
          2.8780128955841064,
          0.662453293800354,
          2.848703145980835,
          0.7910657525062561,
          0.13831396400928497,
          1.8544117212295532,
          1.2045962810516357,
          1.5996272563934326,
          1.0196012258529663,
          2.858563184738159,
          0.3458772301673889,
          2.5878148078918457,
          3.0279667377471924,
          0.8832674026489258,
          0.6596168279647827,
          1.2123875617980957,
          0.45874807238578796,
          1.0884270668029785,
          0.901454746723175,
          1.0421515703201294,
          1.0377107858657837,
          0.655095100402832,
          0.9351854920387268,
          2.2511744499206543,
          1.2713005542755127,
          2.2245981693267822,
          0.19699403643608093,
          1.6948869228363037,
          2.251180410385132,
          1.9941421747207642,
          1.455750823020935,
          2.3681178092956543,
          0.9616263508796692,
          0.2974741458892822,
          1.1886128187179565,
          2.6235899925231934,
          1.050912618637085,
          1.1321038007736206,
          2.573880195617676,
          3.0502021312713623,
          2.112006187438965,
          0.527769923210144,
          1.3404961824417114,
          1.0763771533966064,
          2.8300998210906982,
          1.3317005634307861,
          3.0004372596740723,
          0.07338836044073105,
          2.0476858615875244,
          0.43288812041282654,
          0.9455437660217285,
          1.1308494806289673,
          1.5553481578826904,
          0.9350562691688538
         ]
        },
        {
         "mode": "text",
         "showlegend": false,
         "textfont": {
          "color": "black",
          "family": "Arial",
          "size": 15
         },
         "type": "scatter3d",
         "x": [
          7.217947959899902
         ],
         "y": [
          6.124395847320557
         ],
         "z": [
          1.41978120803833
         ]
        },
        {
         "marker": {
          "color": "#ED3EF7",
          "opacity": 0.7,
          "size": 8
         },
         "mode": "markers",
         "name": "3: Music: Pop-Rock & EDM",
         "type": "scatter3d",
         "x": [
          8.144933700561523,
          8.133037567138672,
          8.286857604980469,
          8.205931663513184,
          8.413710594177246,
          8.754303932189941,
          8.009666442871094,
          8.340673446655273,
          8.371147155761719,
          7.034076690673828,
          7.601626396179199,
          7.9620561599731445,
          7.898904323577881,
          8.967537879943848,
          8.76520824432373,
          8.997193336486816,
          8.624484062194824,
          8.718803405761719,
          8.696221351623535,
          8.517570495605469,
          8.594889640808105,
          8.28171157836914,
          8.470888137817383,
          6.77612829208374,
          8.893180847167969,
          7.898777484893799,
          7.888277053833008,
          9.014841079711914,
          7.687509536743164,
          8.577757835388184,
          7.984529495239258,
          8.913440704345703,
          7.847649574279785,
          7.744621753692627,
          6.993357181549072,
          7.495848178863525,
          8.320484161376953,
          8.39077377319336,
          8.679449081420898,
          7.977664470672607,
          8.706205368041992,
          8.557591438293457,
          7.829690456390381,
          8.937209129333496,
          8.47507095336914,
          8.329911231994629,
          8.215447425842285,
          8.739773750305176,
          9.052752494812012,
          8.61291790008545,
          7.894209384918213,
          7.474764347076416,
          8.308232307434082,
          7.557180404663086,
          7.6331257820129395,
          8.301410675048828,
          8.552453994750977,
          7.943356990814209,
          7.397919654846191,
          8.561671257019043,
          8.894271850585938,
          6.790306568145752,
          7.785044193267822,
          7.71492338180542,
          8.883008003234863,
          7.7905049324035645,
          7.729332447052002,
          7.642740249633789,
          7.7064127922058105,
          7.800487041473389,
          9.132685661315918,
          8.780316352844238,
          7.168233394622803,
          8.071199417114258,
          8.399617195129395
         ],
         "y": [
          5.3128461837768555,
          5.458364009857178,
          5.353766441345215,
          5.384617328643799,
          6.232362270355225,
          6.347233772277832,
          5.788370132446289,
          5.579031467437744,
          6.039243221282959,
          5.915950775146484,
          6.752632141113281,
          6.339292526245117,
          5.342068672180176,
          5.582729339599609,
          5.711135387420654,
          5.701996326446533,
          5.989080429077148,
          5.342822551727295,
          5.556551933288574,
          5.790319919586182,
          6.195749282836914,
          5.380030155181885,
          5.473992824554443,
          6.39758825302124,
          5.776620388031006,
          5.8831963539123535,
          5.496003150939941,
          5.9476823806762695,
          6.354165077209473,
          6.087545394897461,
          5.721594333648682,
          5.624769687652588,
          5.296543121337891,
          6.804310321807861,
          6.100390911102295,
          6.975310325622559,
          6.111636638641357,
          6.050717830657959,
          5.340888977050781,
          5.360864162445068,
          5.858695030212402,
          5.4429030418396,
          6.075003623962402,
          5.684237957000732,
          5.670411109924316,
          6.55420446395874,
          5.5939507484436035,
          6.340738773345947,
          5.927906513214111,
          5.570845603942871,
          5.585626602172852,
          6.6303300857543945,
          5.474496364593506,
          5.590668678283691,
          6.541176795959473,
          6.492703437805176,
          6.332397937774658,
          6.170354843139648,
          6.685153007507324,
          5.249406814575195,
          5.496187210083008,
          6.6367902755737305,
          6.263866424560547,
          5.6711907386779785,
          6.137331485748291,
          5.526866912841797,
          6.17519998550415,
          5.895455360412598,
          6.824824810028076,
          5.352904319763184,
          5.747387409210205,
          5.6682610511779785,
          7.1584038734436035,
          6.54186487197876,
          5.803476810455322
         ],
         "z": [
          0.30926913022994995,
          -0.5296776294708252,
          -0.6788913607597351,
          -0.3739977777004242,
          -0.016797738149762154,
          -0.07031557708978653,
          -0.23717135190963745,
          -0.6571204662322998,
          0.3658474087715149,
          -0.2193935513496399,
          -0.2925548553466797,
          -0.3980087637901306,
          -0.7524170279502869,
          0.04220925271511078,
          0.8280901908874512,
          0.44728609919548035,
          0.450796514749527,
          0.08753147721290588,
          0.4676532447338104,
          -0.5448675155639648,
          -0.02740038000047207,
          -0.6772101521492004,
          -0.511795163154602,
          -0.5305830836296082,
          0.10094311088323593,
          -0.5183976888656616,
          0.18615137040615082,
          0.5807466506958008,
          -0.30372726917266846,
          -0.28197693824768066,
          -0.7070709466934204,
          -0.12687379121780396,
          -0.7909199595451355,
          0.37302207946777344,
          -0.48809438943862915,
          1.038720965385437,
          0.11792193353176117,
          0.6641530394554138,
          -0.4583587944507599,
          0.08337200433015823,
          0.6212015748023987,
          0.7904635667800903,
          -0.1031910628080368,
          -0.5078665018081665,
          0.23241892457008362,
          -0.3882334232330322,
          -0.6205044984817505,
          -0.16962796449661255,
          0.6859333515167236,
          -0.3501701354980469,
          -0.0577164962887764,
          -0.32539165019989014,
          -0.7118601202964783,
          -0.434516578912735,
          0.7979497909545898,
          -0.3554041385650635,
          0.5027587413787842,
          -0.20332564413547516,
          -0.5541943311691284,
          -0.12150056660175323,
          -0.19500428438186646,
          0.030195677652955055,
          -0.2866990864276886,
          -0.5887361168861389,
          0.2157624214887619,
          0.29470545053482056,
          -0.23129409551620483,
          -0.8388254046440125,
          0.06411132216453552,
          -0.764214038848877,
          0.08824513107538223,
          -0.08533887565135956,
          0.9089030027389526,
          0.24414624273777008,
          0.9124370217323303
         ]
        },
        {
         "mode": "text",
         "showlegend": false,
         "textfont": {
          "color": "black",
          "family": "Arial",
          "size": 15
         },
         "type": "scatter3d",
         "x": [
          8.189943313598633
         ],
         "y": [
          5.923616409301758
         ],
         "z": [
          -0.0740572065114975
         ]
        },
        {
         "marker": {
          "color": "#00712D",
          "opacity": 0.7,
          "size": 8
         },
         "mode": "markers",
         "name": "4: Bollywood & Sports",
         "type": "scatter3d",
         "x": [
          4.302565097808838,
          7.3975911140441895,
          4.32037878036499,
          4.283994674682617,
          4.1761369705200195,
          4.154229640960693,
          4.2750749588012695,
          4.176638126373291,
          4.416470050811768,
          4.461664199829102,
          3.7186331748962402,
          4.69706916809082,
          4.25430965423584,
          3.898125171661377,
          3.9369406700134277,
          3.8978352546691895,
          3.7754456996917725,
          3.877504587173462,
          4.666417598724365,
          3.835357904434204,
          3.9668309688568115,
          4.138302326202393,
          4.164457321166992,
          4.399989604949951,
          4.080994129180908,
          3.9524552822113037,
          3.81977915763855,
          5.281271934509277,
          4.34889030456543,
          4.001354217529297,
          5.517154693603516,
          3.7156128883361816,
          3.6843981742858887,
          3.99967885017395,
          3.832484245300293,
          4.411977767944336,
          4.253702640533447,
          3.8802192211151123
         ],
         "y": [
          5.798901557922363,
          6.254960536956787,
          6.384707927703857,
          6.601334095001221,
          6.811976432800293,
          5.72234582901001,
          6.552348613739014,
          6.681674957275391,
          5.71663761138916,
          6.545286655426025,
          6.592645645141602,
          6.804073810577393,
          6.600871562957764,
          6.46867561340332,
          6.675307750701904,
          6.2961955070495605,
          6.542337417602539,
          6.759774684906006,
          5.672497749328613,
          6.553067684173584,
          6.2159271240234375,
          6.660287380218506,
          6.725668907165527,
          5.698622703552246,
          6.246103763580322,
          6.539418697357178,
          6.900419235229492,
          6.751631736755371,
          6.435624599456787,
          6.241238594055176,
          6.098730564117432,
          6.707772731781006,
          6.584014415740967,
          6.1694560050964355,
          6.310657978057861,
          6.46701192855835,
          6.633492946624756,
          6.280181407928467
         ],
         "z": [
          2.8614020347595215,
          -0.16225728392601013,
          0.10312554985284805,
          -0.2208569347858429,
          -0.5408844947814941,
          3.0128064155578613,
          -0.4678559899330139,
          -0.35835036635398865,
          2.8324027061462402,
          -0.412701278924942,
          -0.13744616508483887,
          -0.0911979079246521,
          -0.2775298058986664,
          0.19238150119781494,
          -0.38836669921875,
          0.4149583578109741,
          -0.21501517295837402,
          -0.3844594955444336,
          2.6413285732269287,
          -0.2686176896095276,
          0.6461829543113708,
          -0.5266661047935486,
          -0.3427518308162689,
          2.7430317401885986,
          0.5429231524467468,
          -0.41340747475624084,
          -0.17701785266399384,
          -0.2623228132724762,
          0.08259483426809311,
          0.22196179628372192,
          1.0777037143707275,
          -0.19671060144901276,
          -0.40336933732032776,
          0.8161009550094604,
          0.4063257575035095,
          -0.5279550552368164,
          -0.5517274141311646,
          0.40746307373046875
         ]
        },
        {
         "mode": "text",
         "showlegend": false,
         "textfont": {
          "color": "black",
          "family": "Arial",
          "size": 15
         },
         "type": "scatter3d",
         "x": [
          4.2624192237854
         ],
         "y": [
          6.413207530975342
         ],
         "z": [
          0.3072427809238434
         ]
        },
        {
         "marker": {
          "color": "#F5004F",
          "opacity": 0.7,
          "size": 8
         },
         "mode": "markers",
         "name": "5: Hollywood & Entertainment Icons",
         "type": "scatter3d",
         "x": [
          5.8079729080200195,
          5.486019611358643,
          5.409377574920654,
          5.380080223083496,
          6.021271705627441,
          5.490828990936279,
          6.378139495849609,
          6.689878463745117,
          4.727478504180908,
          6.164348602294922,
          5.594526767730713,
          4.421083927154541,
          5.0965471267700195,
          6.85915470123291,
          6.260815143585205,
          5.569864749908447,
          5.761631488800049,
          4.929244518280029,
          6.407179355621338,
          5.744319438934326,
          7.246301174163818,
          5.116753578186035,
          6.598229885101318,
          4.279963493347168,
          6.45307731628418,
          5.933335781097412,
          5.475219249725342,
          4.9472737312316895,
          6.187440395355225,
          5.8309736251831055,
          7.071192264556885,
          6.0208282470703125,
          4.79466438293457,
          5.95719051361084,
          6.148831367492676,
          6.107241153717041,
          5.469902515411377,
          5.764378070831299,
          6.368791580200195,
          6.477386951446533,
          6.2558794021606445,
          5.637387752532959,
          5.842875003814697,
          4.3151350021362305,
          5.783544063568115,
          5.650071620941162,
          5.246521949768066,
          5.758007049560547,
          5.661829471588135,
          5.650289058685303,
          6.440637111663818,
          6.525655746459961,
          5.7973713874816895,
          5.791082382202148,
          5.774157524108887,
          6.230222702026367,
          5.7720746994018555,
          6.137667655944824,
          4.61638879776001,
          6.422301769256592,
          6.018641948699951,
          4.861522197723389,
          5.856288433074951,
          5.8811821937561035,
          5.641670227050781,
          5.3564677238464355,
          4.2654218673706055,
          5.937183856964111,
          5.426742076873779,
          5.855705738067627,
          6.520538330078125,
          5.49480676651001,
          5.896102428436279,
          4.382649898529053,
          4.846353054046631,
          5.460322380065918,
          5.657132148742676,
          6.195578098297119,
          6.93776273727417,
          5.756662368774414
         ],
         "y": [
          6.283432960510254,
          5.900062561035156,
          5.906308174133301,
          5.992222309112549,
          7.087158203125,
          6.263710975646973,
          6.73458194732666,
          7.140309810638428,
          5.861131191253662,
          5.7098798751831055,
          6.61391544342041,
          5.855810642242432,
          6.427698135375977,
          6.109219074249268,
          7.3406500816345215,
          6.13587760925293,
          7.246016979217529,
          6.153017044067383,
          7.3230390548706055,
          5.976706504821777,
          5.8370256423950195,
          5.920018196105957,
          6.665876388549805,
          5.77067232131958,
          6.660301208496094,
          7.300065040588379,
          6.097908020019531,
          5.81942081451416,
          5.89206600189209,
          6.519984722137451,
          7.176604270935059,
          6.910048484802246,
          5.770210266113281,
          7.476500034332275,
          7.26308536529541,
          6.735082149505615,
          5.752962112426758,
          7.465277671813965,
          7.431004047393799,
          7.362714767456055,
          5.911981105804443,
          5.894526481628418,
          7.597870349884033,
          5.81620979309082,
          7.3614678382873535,
          6.52581787109375,
          6.365485191345215,
          6.140690803527832,
          6.489355087280273,
          6.677277088165283,
          6.438465118408203,
          6.975321292877197,
          5.871385097503662,
          5.862716197967529,
          7.421591281890869,
          7.238404750823975,
          6.380375385284424,
          5.566651344299316,
          6.293421268463135,
          6.583679676055908,
          6.150581359863281,
          6.40728235244751,
          7.147105693817139,
          6.381297588348389,
          6.574926853179932,
          6.179261207580566,
          5.774078369140625,
          5.575992107391357,
          6.3242292404174805,
          7.577232360839844,
          5.621316432952881,
          6.206546306610107,
          7.313685894012451,
          5.875677108764648,
          5.896841526031494,
          5.894057750701904,
          7.087028980255127,
          7.514954090118408,
          6.875375747680664,
          5.812379837036133
         ],
         "z": [
          1.1242268085479736,
          1.8613454103469849,
          1.754300832748413,
          2.0530683994293213,
          0.7767192721366882,
          1.4781221151351929,
          1.5218987464904785,
          1.5280969142913818,
          2.8114781379699707,
          1.8455748558044434,
          1.1384609937667847,
          2.9338455200195312,
          1.9559365510940552,
          2.0781352519989014,
          0.6176509857177734,
          2.178624391555786,
          1.9021148681640625,
          1.5301923751831055,
          1.593394160270691,
          1.5607107877731323,
          2.238048553466797,
          2.2862231731414795,
          2.130403518676758,
          2.8615763187408447,
          2.3372254371643066,
          2.0130650997161865,
          1.6887743473052979,
          2.2189013957977295,
          2.1979775428771973,
          2.155740261077881,
          0.7202333807945251,
          1.6890382766723633,
          2.5947399139404297,
          1.7994967699050903,
          1.8060810565948486,
          2.033914089202881,
          2.0590763092041016,
          1.9200373888015747,
          1.703771710395813,
          1.1070445775985718,
          2.247041702270508,
          2.367220163345337,
          1.877381443977356,
          2.952954053878784,
          1.3459794521331787,
          2.3940625190734863,
          0.9299594759941101,
          1.6558246612548828,
          2.1751198768615723,
          2.1957781314849854,
          1.326583743095398,
          1.3509407043457031,
          2.831326961517334,
          1.9548479318618774,
          0.5853259563446045,
          1.8157172203063965,
          1.3433973789215088,
          1.918055534362793,
          1.1651633977890015,
          2.0123157501220703,
          1.1405569314956665,
          1.1186598539352417,
          1.6626453399658203,
          1.3947858810424805,
          2.315946578979492,
          1.9154391288757324,
          2.6451199054718018,
          1.9679847955703735,
          2.2240867614746094,
          1.5923775434494019,
          1.471093773841858,
          1.5623960494995117,
          1.2450652122497559,
          2.890475034713745,
          2.82743239402771,
          2.0241775512695312,
          1.366408109664917,
          1.9308221340179443,
          1.5936793088912964,
          1.3320786952972412
         ]
        },
        {
         "mode": "text",
         "showlegend": false,
         "textfont": {
          "color": "black",
          "family": "Arial",
          "size": 15
         },
         "type": "scatter3d",
         "x": [
          5.750082015991211
         ],
         "y": [
          6.468626499176025
         ],
         "z": [
          1.8308937549591064
         ]
        }
       ],
       "layout": {
        "autosize": true,
        "legend": {
         "font": {
          "size": 10
         },
         "itemclick": "toggleothers",
         "itemdoubleclick": "toggle",
         "orientation": "h",
         "title": {
          "text": "Choose Topics"
         },
         "x": 0.5,
         "xanchor": "center",
         "y": -0.15
        },
        "margin": {
         "b": 0,
         "l": 0,
         "r": 0,
         "t": 30
        },
        "scene": {
         "xaxis": {
          "title": {
           "text": "First Dimension"
          }
         },
         "yaxis": {
          "title": {
           "text": "Second Dimension"
          }
         },
         "zaxis": {
          "title": {
           "text": "Third Dimension"
          }
         }
        },
        "template": {
         "data": {
          "bar": [
           {
            "error_x": {
             "color": "#2a3f5f"
            },
            "error_y": {
             "color": "#2a3f5f"
            },
            "marker": {
             "line": {
              "color": "#E5ECF6",
              "width": 0.5
             },
             "pattern": {
              "fillmode": "overlay",
              "size": 10,
              "solidity": 0.2
             }
            },
            "type": "bar"
           }
          ],
          "barpolar": [
           {
            "marker": {
             "line": {
              "color": "#E5ECF6",
              "width": 0.5
             },
             "pattern": {
              "fillmode": "overlay",
              "size": 10,
              "solidity": 0.2
             }
            },
            "type": "barpolar"
           }
          ],
          "carpet": [
           {
            "aaxis": {
             "endlinecolor": "#2a3f5f",
             "gridcolor": "white",
             "linecolor": "white",
             "minorgridcolor": "white",
             "startlinecolor": "#2a3f5f"
            },
            "baxis": {
             "endlinecolor": "#2a3f5f",
             "gridcolor": "white",
             "linecolor": "white",
             "minorgridcolor": "white",
             "startlinecolor": "#2a3f5f"
            },
            "type": "carpet"
           }
          ],
          "choropleth": [
           {
            "colorbar": {
             "outlinewidth": 0,
             "ticks": ""
            },
            "type": "choropleth"
           }
          ],
          "contour": [
           {
            "colorbar": {
             "outlinewidth": 0,
             "ticks": ""
            },
            "colorscale": [
             [
              0,
              "#0d0887"
             ],
             [
              0.1111111111111111,
              "#46039f"
             ],
             [
              0.2222222222222222,
              "#7201a8"
             ],
             [
              0.3333333333333333,
              "#9c179e"
             ],
             [
              0.4444444444444444,
              "#bd3786"
             ],
             [
              0.5555555555555556,
              "#d8576b"
             ],
             [
              0.6666666666666666,
              "#ed7953"
             ],
             [
              0.7777777777777778,
              "#fb9f3a"
             ],
             [
              0.8888888888888888,
              "#fdca26"
             ],
             [
              1,
              "#f0f921"
             ]
            ],
            "type": "contour"
           }
          ],
          "contourcarpet": [
           {
            "colorbar": {
             "outlinewidth": 0,
             "ticks": ""
            },
            "type": "contourcarpet"
           }
          ],
          "heatmap": [
           {
            "colorbar": {
             "outlinewidth": 0,
             "ticks": ""
            },
            "colorscale": [
             [
              0,
              "#0d0887"
             ],
             [
              0.1111111111111111,
              "#46039f"
             ],
             [
              0.2222222222222222,
              "#7201a8"
             ],
             [
              0.3333333333333333,
              "#9c179e"
             ],
             [
              0.4444444444444444,
              "#bd3786"
             ],
             [
              0.5555555555555556,
              "#d8576b"
             ],
             [
              0.6666666666666666,
              "#ed7953"
             ],
             [
              0.7777777777777778,
              "#fb9f3a"
             ],
             [
              0.8888888888888888,
              "#fdca26"
             ],
             [
              1,
              "#f0f921"
             ]
            ],
            "type": "heatmap"
           }
          ],
          "heatmapgl": [
           {
            "colorbar": {
             "outlinewidth": 0,
             "ticks": ""
            },
            "colorscale": [
             [
              0,
              "#0d0887"
             ],
             [
              0.1111111111111111,
              "#46039f"
             ],
             [
              0.2222222222222222,
              "#7201a8"
             ],
             [
              0.3333333333333333,
              "#9c179e"
             ],
             [
              0.4444444444444444,
              "#bd3786"
             ],
             [
              0.5555555555555556,
              "#d8576b"
             ],
             [
              0.6666666666666666,
              "#ed7953"
             ],
             [
              0.7777777777777778,
              "#fb9f3a"
             ],
             [
              0.8888888888888888,
              "#fdca26"
             ],
             [
              1,
              "#f0f921"
             ]
            ],
            "type": "heatmapgl"
           }
          ],
          "histogram": [
           {
            "marker": {
             "pattern": {
              "fillmode": "overlay",
              "size": 10,
              "solidity": 0.2
             }
            },
            "type": "histogram"
           }
          ],
          "histogram2d": [
           {
            "colorbar": {
             "outlinewidth": 0,
             "ticks": ""
            },
            "colorscale": [
             [
              0,
              "#0d0887"
             ],
             [
              0.1111111111111111,
              "#46039f"
             ],
             [
              0.2222222222222222,
              "#7201a8"
             ],
             [
              0.3333333333333333,
              "#9c179e"
             ],
             [
              0.4444444444444444,
              "#bd3786"
             ],
             [
              0.5555555555555556,
              "#d8576b"
             ],
             [
              0.6666666666666666,
              "#ed7953"
             ],
             [
              0.7777777777777778,
              "#fb9f3a"
             ],
             [
              0.8888888888888888,
              "#fdca26"
             ],
             [
              1,
              "#f0f921"
             ]
            ],
            "type": "histogram2d"
           }
          ],
          "histogram2dcontour": [
           {
            "colorbar": {
             "outlinewidth": 0,
             "ticks": ""
            },
            "colorscale": [
             [
              0,
              "#0d0887"
             ],
             [
              0.1111111111111111,
              "#46039f"
             ],
             [
              0.2222222222222222,
              "#7201a8"
             ],
             [
              0.3333333333333333,
              "#9c179e"
             ],
             [
              0.4444444444444444,
              "#bd3786"
             ],
             [
              0.5555555555555556,
              "#d8576b"
             ],
             [
              0.6666666666666666,
              "#ed7953"
             ],
             [
              0.7777777777777778,
              "#fb9f3a"
             ],
             [
              0.8888888888888888,
              "#fdca26"
             ],
             [
              1,
              "#f0f921"
             ]
            ],
            "type": "histogram2dcontour"
           }
          ],
          "mesh3d": [
           {
            "colorbar": {
             "outlinewidth": 0,
             "ticks": ""
            },
            "type": "mesh3d"
           }
          ],
          "parcoords": [
           {
            "line": {
             "colorbar": {
              "outlinewidth": 0,
              "ticks": ""
             }
            },
            "type": "parcoords"
           }
          ],
          "pie": [
           {
            "automargin": true,
            "type": "pie"
           }
          ],
          "scatter": [
           {
            "fillpattern": {
             "fillmode": "overlay",
             "size": 10,
             "solidity": 0.2
            },
            "type": "scatter"
           }
          ],
          "scatter3d": [
           {
            "line": {
             "colorbar": {
              "outlinewidth": 0,
              "ticks": ""
             }
            },
            "marker": {
             "colorbar": {
              "outlinewidth": 0,
              "ticks": ""
             }
            },
            "type": "scatter3d"
           }
          ],
          "scattercarpet": [
           {
            "marker": {
             "colorbar": {
              "outlinewidth": 0,
              "ticks": ""
             }
            },
            "type": "scattercarpet"
           }
          ],
          "scattergeo": [
           {
            "marker": {
             "colorbar": {
              "outlinewidth": 0,
              "ticks": ""
             }
            },
            "type": "scattergeo"
           }
          ],
          "scattergl": [
           {
            "marker": {
             "colorbar": {
              "outlinewidth": 0,
              "ticks": ""
             }
            },
            "type": "scattergl"
           }
          ],
          "scattermapbox": [
           {
            "marker": {
             "colorbar": {
              "outlinewidth": 0,
              "ticks": ""
             }
            },
            "type": "scattermapbox"
           }
          ],
          "scatterpolar": [
           {
            "marker": {
             "colorbar": {
              "outlinewidth": 0,
              "ticks": ""
             }
            },
            "type": "scatterpolar"
           }
          ],
          "scatterpolargl": [
           {
            "marker": {
             "colorbar": {
              "outlinewidth": 0,
              "ticks": ""
             }
            },
            "type": "scatterpolargl"
           }
          ],
          "scatterternary": [
           {
            "marker": {
             "colorbar": {
              "outlinewidth": 0,
              "ticks": ""
             }
            },
            "type": "scatterternary"
           }
          ],
          "surface": [
           {
            "colorbar": {
             "outlinewidth": 0,
             "ticks": ""
            },
            "colorscale": [
             [
              0,
              "#0d0887"
             ],
             [
              0.1111111111111111,
              "#46039f"
             ],
             [
              0.2222222222222222,
              "#7201a8"
             ],
             [
              0.3333333333333333,
              "#9c179e"
             ],
             [
              0.4444444444444444,
              "#bd3786"
             ],
             [
              0.5555555555555556,
              "#d8576b"
             ],
             [
              0.6666666666666666,
              "#ed7953"
             ],
             [
              0.7777777777777778,
              "#fb9f3a"
             ],
             [
              0.8888888888888888,
              "#fdca26"
             ],
             [
              1,
              "#f0f921"
             ]
            ],
            "type": "surface"
           }
          ],
          "table": [
           {
            "cells": {
             "fill": {
              "color": "#EBF0F8"
             },
             "line": {
              "color": "white"
             }
            },
            "header": {
             "fill": {
              "color": "#C8D4E3"
             },
             "line": {
              "color": "white"
             }
            },
            "type": "table"
           }
          ]
         },
         "layout": {
          "annotationdefaults": {
           "arrowcolor": "#2a3f5f",
           "arrowhead": 0,
           "arrowwidth": 1
          },
          "autotypenumbers": "strict",
          "coloraxis": {
           "colorbar": {
            "outlinewidth": 0,
            "ticks": ""
           }
          },
          "colorscale": {
           "diverging": [
            [
             0,
             "#8e0152"
            ],
            [
             0.1,
             "#c51b7d"
            ],
            [
             0.2,
             "#de77ae"
            ],
            [
             0.3,
             "#f1b6da"
            ],
            [
             0.4,
             "#fde0ef"
            ],
            [
             0.5,
             "#f7f7f7"
            ],
            [
             0.6,
             "#e6f5d0"
            ],
            [
             0.7,
             "#b8e186"
            ],
            [
             0.8,
             "#7fbc41"
            ],
            [
             0.9,
             "#4d9221"
            ],
            [
             1,
             "#276419"
            ]
           ],
           "sequential": [
            [
             0,
             "#0d0887"
            ],
            [
             0.1111111111111111,
             "#46039f"
            ],
            [
             0.2222222222222222,
             "#7201a8"
            ],
            [
             0.3333333333333333,
             "#9c179e"
            ],
            [
             0.4444444444444444,
             "#bd3786"
            ],
            [
             0.5555555555555556,
             "#d8576b"
            ],
            [
             0.6666666666666666,
             "#ed7953"
            ],
            [
             0.7777777777777778,
             "#fb9f3a"
            ],
            [
             0.8888888888888888,
             "#fdca26"
            ],
            [
             1,
             "#f0f921"
            ]
           ],
           "sequentialminus": [
            [
             0,
             "#0d0887"
            ],
            [
             0.1111111111111111,
             "#46039f"
            ],
            [
             0.2222222222222222,
             "#7201a8"
            ],
            [
             0.3333333333333333,
             "#9c179e"
            ],
            [
             0.4444444444444444,
             "#bd3786"
            ],
            [
             0.5555555555555556,
             "#d8576b"
            ],
            [
             0.6666666666666666,
             "#ed7953"
            ],
            [
             0.7777777777777778,
             "#fb9f3a"
            ],
            [
             0.8888888888888888,
             "#fdca26"
            ],
            [
             1,
             "#f0f921"
            ]
           ]
          },
          "colorway": [
           "#636efa",
           "#EF553B",
           "#00cc96",
           "#ab63fa",
           "#FFA15A",
           "#19d3f3",
           "#FF6692",
           "#B6E880",
           "#FF97FF",
           "#FECB52"
          ],
          "font": {
           "color": "#2a3f5f"
          },
          "geo": {
           "bgcolor": "white",
           "lakecolor": "white",
           "landcolor": "#E5ECF6",
           "showlakes": true,
           "showland": true,
           "subunitcolor": "white"
          },
          "hoverlabel": {
           "align": "left"
          },
          "hovermode": "closest",
          "mapbox": {
           "style": "light"
          },
          "paper_bgcolor": "white",
          "plot_bgcolor": "#E5ECF6",
          "polar": {
           "angularaxis": {
            "gridcolor": "white",
            "linecolor": "white",
            "ticks": ""
           },
           "bgcolor": "#E5ECF6",
           "radialaxis": {
            "gridcolor": "white",
            "linecolor": "white",
            "ticks": ""
           }
          },
          "scene": {
           "xaxis": {
            "backgroundcolor": "#E5ECF6",
            "gridcolor": "white",
            "gridwidth": 2,
            "linecolor": "white",
            "showbackground": true,
            "ticks": "",
            "zerolinecolor": "white"
           },
           "yaxis": {
            "backgroundcolor": "#E5ECF6",
            "gridcolor": "white",
            "gridwidth": 2,
            "linecolor": "white",
            "showbackground": true,
            "ticks": "",
            "zerolinecolor": "white"
           },
           "zaxis": {
            "backgroundcolor": "#E5ECF6",
            "gridcolor": "white",
            "gridwidth": 2,
            "linecolor": "white",
            "showbackground": true,
            "ticks": "",
            "zerolinecolor": "white"
           }
          },
          "shapedefaults": {
           "line": {
            "color": "#2a3f5f"
           }
          },
          "ternary": {
           "aaxis": {
            "gridcolor": "white",
            "linecolor": "white",
            "ticks": ""
           },
           "baxis": {
            "gridcolor": "white",
            "linecolor": "white",
            "ticks": ""
           },
           "bgcolor": "#E5ECF6",
           "caxis": {
            "gridcolor": "white",
            "linecolor": "white",
            "ticks": ""
           }
          },
          "title": {
           "x": 0.05
          },
          "xaxis": {
           "automargin": true,
           "gridcolor": "white",
           "linecolor": "white",
           "ticks": "",
           "title": {
            "standoff": 15
           },
           "zerolinecolor": "white",
           "zerolinewidth": 2
          },
          "yaxis": {
           "automargin": true,
           "gridcolor": "white",
           "linecolor": "white",
           "ticks": "",
           "title": {
            "standoff": 15
           },
           "zerolinecolor": "white",
           "zerolinewidth": 2
          }
         }
        },
        "title": {
         "text": "Users Clustering in 3D"
        }
       }
      }
     },
     "metadata": {},
     "output_type": "display_data"
    }
   ],
   "source": [
    "def create_3d_scatter_plot(df_umap, custom_labels):\n",
    "    # Centers of each cluster\n",
    "    centers = df_umap.groupby('cluster')[['first_dim', 'second_dim', 'third_dim']].mean().values\n",
    "\n",
    "    # Custom colors for each cluster\n",
    "    custom_colors = ['#4535C1', '#FF8225', '#ED3EF7', '#00712D', '#F5004F', '#FFEB55', '#FF8C9E', '#836FFF']\n",
    "\n",
    "    # Create 3D scatter plot figure\n",
    "    fig = go.Figure()\n",
    "\n",
    "    # Loop through each cluster and add scatter points\n",
    "    for cluster_id, center in enumerate(centers):\n",
    "        cluster_points = df_umap[df_umap['cluster'] == cluster_id]\n",
    "\n",
    "        fig.add_trace(go.Scatter3d(\n",
    "            x=cluster_points['first_dim'],\n",
    "            y=cluster_points['second_dim'],\n",
    "            z=cluster_points['third_dim'],\n",
    "            mode='markers',\n",
    "            marker=dict(\n",
    "                size=8,\n",
    "                color=custom_colors[cluster_id],\n",
    "                opacity=0.7\n",
    "            ),\n",
    "            name=custom_labels[cluster_id]\n",
    "        ))\n",
    "\n",
    "        # Add cluster center text\n",
    "        fig.add_trace(go.Scatter3d(\n",
    "            x=[center[0]],\n",
    "            y=[center[1]],\n",
    "            z=[center[2]],\n",
    "            mode='text',\n",
    "            textfont=dict(size=15, color='black', family='Arial'),\n",
    "            showlegend=False\n",
    "        ))\n",
    "\n",
    "    # Customize axis labels and title\n",
    "    fig.update_layout(\n",
    "        autosize=True,\n",
    "        scene=dict(\n",
    "            xaxis_title='First Dimension',\n",
    "            yaxis_title='Second Dimension',\n",
    "            zaxis_title='Third Dimension'\n",
    "        ),\n",
    "        title='Users Clustering in 3D',\n",
    "        legend_title='Choose Topics',\n",
    "        # Adjust legend to appear below the plot area\n",
    "        legend=dict(\n",
    "            orientation='h',\n",
    "            x=0.5, y=-0.15,  # Position the legend below the plot\n",
    "            xanchor='center',  # Center the legend horizontally\n",
    "            font=dict(size=10),  # Reduce font size for better visibility\n",
    "            itemclick=\"toggleothers\",\n",
    "            itemdoubleclick=\"toggle\"\n",
    "        ),\n",
    "        margin=dict(l=0, r=0, b=0, t=30)  # Reduce margins for responsiveness\n",
    "    )\n",
    "    return fig\n",
    "\n",
    "fig = create_3d_scatter_plot(df_umap, labels)\n",
    "\n",
    "# Show the plot\n",
    "fig.show()\n"
   ]
  }
 ],
 "metadata": {
  "kernelspec": {
   "display_name": "Python 3",
   "language": "python",
   "name": "python3"
  },
  "language_info": {
   "codemirror_mode": {
    "name": "ipython",
    "version": 3
   },
   "file_extension": ".py",
   "mimetype": "text/x-python",
   "name": "python",
   "nbconvert_exporter": "python",
   "pygments_lexer": "ipython3",
   "version": "3.12.2"
  }
 },
 "nbformat": 4,
 "nbformat_minor": 5
}
